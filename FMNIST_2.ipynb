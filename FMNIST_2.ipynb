{
  "nbformat": 4,
  "nbformat_minor": 0,
  "metadata": {
    "colab": {
      "name": "FMNIST 2.ipynb",
      "provenance": [],
      "collapsed_sections": []
    },
    "kernelspec": {
      "name": "python3",
      "display_name": "Python 3"
    },
    "accelerator": "GPU"
  },
  "cells": [
    {
      "cell_type": "code",
      "metadata": {
        "id": "3RzAhnPGtWR2",
        "colab_type": "code",
        "colab": {}
      },
      "source": [
        "import numpy as np\n",
        "import tensorflow as tf\n",
        "from tensorflow import keras"
      ],
      "execution_count": 1,
      "outputs": []
    },
    {
      "cell_type": "code",
      "metadata": {
        "id": "al41ljjptYxG",
        "colab_type": "code",
        "colab": {
          "base_uri": "https://localhost:8080/",
          "height": 182
        },
        "outputId": "333aba3e-24da-427c-92c4-b03c1b10cb56"
      },
      "source": [
        "from tensorflow.keras.datasets.fashion_mnist  import load_data\n",
        "(X_train, y_train), (X_test, y_test) = load_data()\n",
        "print(X_train.shape, y_train.shape, X_test.shape, y_test.shape)\n"
      ],
      "execution_count": 2,
      "outputs": [
        {
          "output_type": "stream",
          "text": [
            "Downloading data from https://storage.googleapis.com/tensorflow/tf-keras-datasets/train-labels-idx1-ubyte.gz\n",
            "32768/29515 [=================================] - 0s 0us/step\n",
            "Downloading data from https://storage.googleapis.com/tensorflow/tf-keras-datasets/train-images-idx3-ubyte.gz\n",
            "26427392/26421880 [==============================] - 0s 0us/step\n",
            "Downloading data from https://storage.googleapis.com/tensorflow/tf-keras-datasets/t10k-labels-idx1-ubyte.gz\n",
            "8192/5148 [===============================================] - 0s 0us/step\n",
            "Downloading data from https://storage.googleapis.com/tensorflow/tf-keras-datasets/t10k-images-idx3-ubyte.gz\n",
            "4423680/4422102 [==============================] - 0s 0us/step\n",
            "(60000, 28, 28) (60000,) (10000, 28, 28) (10000,)\n"
          ],
          "name": "stdout"
        }
      ]
    },
    {
      "cell_type": "code",
      "metadata": {
        "id": "87gPAy2otY1U",
        "colab_type": "code",
        "colab": {}
      },
      "source": [
        "indexes = np.arange(X_test.shape[0])\n",
        "for _ in range(5): indexes = np.random.permutation(indexes)  # shuffle 5 times!\n",
        "X_test = X_test[indexes]\n",
        "y_test = y_test[indexes]\n",
        "\n",
        "val_count = 80000\n",
        "X_val = X_test[:val_count]\n",
        "y_val = y_test[:val_count]\n",
        "X_test = X_test[val_count:]\n",
        "y_test = y_test[val_count:]"
      ],
      "execution_count": 3,
      "outputs": []
    },
    {
      "cell_type": "code",
      "metadata": {
        "id": "rZ5EtiKKtY5w",
        "colab_type": "code",
        "colab": {}
      },
      "source": [
        "X_train = X_train.astype('float32') / 255.0\n",
        "X_val = X_val.astype('float32') / 255.0\n",
        "X_test = X_test.astype('float32') / 255.0"
      ],
      "execution_count": 4,
      "outputs": []
    },
    {
      "cell_type": "code",
      "metadata": {
        "id": "b9qEIYDQtY-v",
        "colab_type": "code",
        "colab": {}
      },
      "source": [
        "X_train = np.reshape(X_train, (X_train.shape[0], X_train.shape[1], X_train.shape[2], 1))\n",
        "X_val = np.reshape(X_val, (X_val.shape[0], X_val.shape[1], X_val.shape[2], 1))\n",
        "X_test = np.reshape(X_test, (X_test.shape[0], X_test.shape[1], X_test.shape[2], 1))"
      ],
      "execution_count": 5,
      "outputs": []
    },
    {
      "cell_type": "code",
      "metadata": {
        "id": "Xzvb4Q9mtY96",
        "colab_type": "code",
        "colab": {}
      },
      "source": [
        "FASHION_LABELS = {\n",
        "        0: 'T-shirt/top',\n",
        "        1: 'Trouser',\n",
        "        2: 'Pullover',\n",
        "        3: 'Dress',\n",
        "        4: 'Coat',\n",
        "        5: 'Sandal',\n",
        "        6: 'Shirt',\n",
        "        7: 'Sneaker',\n",
        "        8: 'Bag',\n",
        "        9: 'Ankle boot',\n",
        "    }\n",
        "\n"
      ],
      "execution_count": 6,
      "outputs": []
    },
    {
      "cell_type": "code",
      "metadata": {
        "id": "TMx_UerrtY8T",
        "colab_type": "code",
        "colab": {}
      },
      "source": [
        "model = keras.models.Sequential([\n",
        "keras.layers.Conv2D(64, 7, activation=\"relu\", padding=\"same\",\n",
        "input_shape=[28, 28, 1]),\n",
        "keras.layers.MaxPooling2D(2),\n",
        "keras.layers.Conv2D(128, 3, activation=\"relu\", padding=\"same\"),\n",
        "keras.layers.Conv2D(128, 3, activation=\"relu\", padding=\"same\"),\n",
        "keras.layers.MaxPooling2D(2),\n",
        "keras.layers.Conv2D(256, 3, activation=\"relu\", padding=\"same\"),\n",
        "keras.layers.Conv2D(256, 3, activation=\"relu\", padding=\"same\"),\n",
        "keras.layers.MaxPooling2D(2),\n",
        "keras.layers.Flatten(),\n",
        "keras.layers.Dense(128, activation=\"relu\"),\n",
        "keras.layers.Dropout(0.5),\n",
        "keras.layers.Dense(64, activation=\"relu\"),\n",
        "keras.layers.Dropout(0.5),\n",
        "keras.layers.Dense(10, activation=\"softmax\")\n",
        "])"
      ],
      "execution_count": 7,
      "outputs": []
    },
    {
      "cell_type": "code",
      "metadata": {
        "id": "J6dqAo_FtY4x",
        "colab_type": "code",
        "colab": {}
      },
      "source": [
        "model.compile(loss = \"sparse_categorical_crossentropy\", optimizer = \"adam\", metrics = [\"accuracy\"])"
      ],
      "execution_count": 8,
      "outputs": []
    },
    {
      "cell_type": "code",
      "metadata": {
        "id": "D0gMjswqtY3d",
        "colab_type": "code",
        "colab": {
          "base_uri": "https://localhost:8080/",
          "height": 1000
        },
        "outputId": "216bd376-b8f6-4da8-94a6-8ba8ac180a73"
      },
      "source": [
        "history = model.fit(X_train, y_train, epochs=30, validation_data=(X_val, y_val))"
      ],
      "execution_count": 9,
      "outputs": [
        {
          "output_type": "stream",
          "text": [
            "Epoch 1/30\n",
            "1875/1875 [==============================] - 10s 5ms/step - loss: 0.8270 - accuracy: 0.6923 - val_loss: 0.4294 - val_accuracy: 0.8513\n",
            "Epoch 2/30\n",
            "1875/1875 [==============================] - 10s 5ms/step - loss: 0.4482 - accuracy: 0.8459 - val_loss: 0.3381 - val_accuracy: 0.8729\n",
            "Epoch 3/30\n",
            "1875/1875 [==============================] - 10s 5ms/step - loss: 0.3779 - accuracy: 0.8676 - val_loss: 0.3245 - val_accuracy: 0.8807\n",
            "Epoch 4/30\n",
            "1875/1875 [==============================] - 10s 5ms/step - loss: 0.3423 - accuracy: 0.8813 - val_loss: 0.3080 - val_accuracy: 0.8918\n",
            "Epoch 5/30\n",
            "1875/1875 [==============================] - 10s 5ms/step - loss: 0.3180 - accuracy: 0.8913 - val_loss: 0.2945 - val_accuracy: 0.8967\n",
            "Epoch 6/30\n",
            "1875/1875 [==============================] - 10s 5ms/step - loss: 0.2960 - accuracy: 0.8982 - val_loss: 0.2756 - val_accuracy: 0.9034\n",
            "Epoch 7/30\n",
            "1875/1875 [==============================] - 10s 5ms/step - loss: 0.2769 - accuracy: 0.9042 - val_loss: 0.3036 - val_accuracy: 0.8947\n",
            "Epoch 8/30\n",
            "1875/1875 [==============================] - 10s 5ms/step - loss: 0.2634 - accuracy: 0.9091 - val_loss: 0.2784 - val_accuracy: 0.9106\n",
            "Epoch 9/30\n",
            "1875/1875 [==============================] - 10s 5ms/step - loss: 0.2510 - accuracy: 0.9152 - val_loss: 0.2829 - val_accuracy: 0.9054\n",
            "Epoch 10/30\n",
            "1875/1875 [==============================] - 10s 5ms/step - loss: 0.2416 - accuracy: 0.9151 - val_loss: 0.2880 - val_accuracy: 0.9026\n",
            "Epoch 11/30\n",
            "1875/1875 [==============================] - 10s 5ms/step - loss: 0.2320 - accuracy: 0.9197 - val_loss: 0.2787 - val_accuracy: 0.9102\n",
            "Epoch 12/30\n",
            "1875/1875 [==============================] - 10s 5ms/step - loss: 0.2229 - accuracy: 0.9237 - val_loss: 0.2885 - val_accuracy: 0.9103\n",
            "Epoch 13/30\n",
            "1875/1875 [==============================] - 10s 5ms/step - loss: 0.2118 - accuracy: 0.9276 - val_loss: 0.2918 - val_accuracy: 0.9103\n",
            "Epoch 14/30\n",
            "1875/1875 [==============================] - 10s 5ms/step - loss: 0.2041 - accuracy: 0.9289 - val_loss: 0.2989 - val_accuracy: 0.9066\n",
            "Epoch 15/30\n",
            "1875/1875 [==============================] - 10s 5ms/step - loss: 0.1979 - accuracy: 0.9311 - val_loss: 0.2896 - val_accuracy: 0.9132\n",
            "Epoch 16/30\n",
            "1875/1875 [==============================] - 10s 5ms/step - loss: 0.1915 - accuracy: 0.9339 - val_loss: 0.3020 - val_accuracy: 0.9143\n",
            "Epoch 17/30\n",
            "1875/1875 [==============================] - 10s 5ms/step - loss: 0.1829 - accuracy: 0.9368 - val_loss: 0.3308 - val_accuracy: 0.9109\n",
            "Epoch 18/30\n",
            "1875/1875 [==============================] - 10s 5ms/step - loss: 0.1838 - accuracy: 0.9372 - val_loss: 0.3709 - val_accuracy: 0.9069\n",
            "Epoch 19/30\n",
            "1875/1875 [==============================] - 10s 5ms/step - loss: 0.1803 - accuracy: 0.9383 - val_loss: 0.3186 - val_accuracy: 0.9142\n",
            "Epoch 20/30\n",
            "1875/1875 [==============================] - 10s 5ms/step - loss: 0.1762 - accuracy: 0.9417 - val_loss: 0.3510 - val_accuracy: 0.9163\n",
            "Epoch 21/30\n",
            "1875/1875 [==============================] - 10s 5ms/step - loss: 0.1633 - accuracy: 0.9437 - val_loss: 0.3974 - val_accuracy: 0.9136\n",
            "Epoch 22/30\n",
            "1875/1875 [==============================] - 10s 5ms/step - loss: 0.1718 - accuracy: 0.9422 - val_loss: 0.3495 - val_accuracy: 0.9126\n",
            "Epoch 23/30\n",
            "1875/1875 [==============================] - 10s 5ms/step - loss: 0.1668 - accuracy: 0.9441 - val_loss: 0.3434 - val_accuracy: 0.9131\n",
            "Epoch 24/30\n",
            "1875/1875 [==============================] - 10s 5ms/step - loss: 0.1544 - accuracy: 0.9477 - val_loss: 0.3376 - val_accuracy: 0.9147\n",
            "Epoch 25/30\n",
            "1875/1875 [==============================] - 10s 5ms/step - loss: 0.1514 - accuracy: 0.9495 - val_loss: 0.3400 - val_accuracy: 0.9151\n",
            "Epoch 26/30\n",
            "1875/1875 [==============================] - 10s 5ms/step - loss: 0.1564 - accuracy: 0.9483 - val_loss: 0.3677 - val_accuracy: 0.9136\n",
            "Epoch 27/30\n",
            "1875/1875 [==============================] - 10s 5ms/step - loss: 0.1547 - accuracy: 0.9480 - val_loss: 0.3580 - val_accuracy: 0.9120\n",
            "Epoch 28/30\n",
            "1875/1875 [==============================] - 10s 5ms/step - loss: 0.1480 - accuracy: 0.9496 - val_loss: 0.3718 - val_accuracy: 0.9099\n",
            "Epoch 29/30\n",
            "1875/1875 [==============================] - 10s 5ms/step - loss: 0.1443 - accuracy: 0.9520 - val_loss: 0.3436 - val_accuracy: 0.9153\n",
            "Epoch 30/30\n",
            "1875/1875 [==============================] - 10s 5ms/step - loss: 0.1426 - accuracy: 0.9530 - val_loss: 0.3895 - val_accuracy: 0.9126\n"
          ],
          "name": "stdout"
        }
      ]
    },
    {
      "cell_type": "markdown",
      "metadata": {
        "id": "_nNFG0rh-4Nw",
        "colab_type": "text"
      },
      "source": [
        "# **Accuracy of 95% was achieved on Training Set and accuracy of 91% was achieved on Test Set.**"
      ]
    },
    {
      "cell_type": "code",
      "metadata": {
        "id": "EVDtHfottYy6",
        "colab_type": "code",
        "colab": {}
      },
      "source": [
        ""
      ],
      "execution_count": null,
      "outputs": []
    },
    {
      "cell_type": "code",
      "metadata": {
        "id": "JfkfGJELtYwa",
        "colab_type": "code",
        "colab": {}
      },
      "source": [
        ""
      ],
      "execution_count": null,
      "outputs": []
    }
  ]
}